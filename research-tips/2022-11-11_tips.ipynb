{
 "cells": [
  {
   "cell_type": "markdown",
   "id": "41c77004",
   "metadata": {},
   "source": [
    "## 실험 코딩 팁\n",
    "\n",
    "1. 실험 결과의 신뢰도 높이기\n",
    "    - 실험의 랜덤성 잡기 \n",
    "    - 반복 실험하여 통계량을 보고\n",
    "2. 모듈화\n",
    "    - 클래스 만들기\n",
    "3. 효율적인 실험 로깅 - Weight and Bias (WanDB)\n",
    "\n",
    "## 예제 실험 소개\n",
    "가우시안 분포에서 샘플링하면서 표본평균이 점점 모평균으로 수렴하는 것을 보는 실험"
   ]
  },
  {
   "cell_type": "code",
   "execution_count": 1,
   "id": "a5c4db0f",
   "metadata": {},
   "outputs": [
    {
     "name": "stdout",
     "output_type": "stream",
     "text": [
      "9.160416164841006\n"
     ]
    }
   ],
   "source": [
    "import numpy as np\n",
    "\n",
    "# 실험 인자\n",
    "mu = 10\n",
    "std = 3\n",
    "n_trials = 25\n",
    "\n",
    "# 실험 알고리즘\n",
    "s = 0\n",
    "count = 0\n",
    "history = []\n",
    "for i in range(n_trials):\n",
    "    x = np.random.normal(mu, std)\n",
    "    \n",
    "    s = s + x\n",
    "    count = count + 1\n",
    "    history.append(s / count)\n",
    "    \n",
    "print(history[-1])\n",
    "    "
   ]
  },
  {
   "cell_type": "code",
   "execution_count": 2,
   "id": "c31b6bbf",
   "metadata": {},
   "outputs": [
    {
     "data": {
      "image/png": "[encoded data removed]",
      "text/plain": [
       "<Figure size 432x288 with 1 Axes>"
      ]
     },
     "metadata": {
      "needs_background": "light"
     },
     "output_type": "display_data"
    }
   ],
   "source": [
    "import matplotlib.pyplot as plt\n",
    "\n",
    "plt.rcParams['font.family'] = 'serif'\n",
    "plt.rcParams['font.size']= 14\n",
    "\n",
    "plt.figure(figsize=(6, 4))\n",
    "plt.plot(history, 'k-')\n",
    "plt.hlines(mu, xmin=0, xmax=n_trials, linestyle='dashed', color='red')\n",
    "plt.grid()\n",
    "plt.show()"
   ]
  },
  {
   "cell_type": "markdown",
   "id": "dc7fab9d",
   "metadata": {},
   "source": [
    "---\n",
    "\n",
    "## 1. 실험 결과의 신뢰도 올리기\n",
    "\n",
    "### 1.1 실험의 랜덤성 잡기\n",
    "- 실험에 랜덤성 (stochasticity)가 있어서 코드를 돌릴 때마다 달라지는 경우가 있다.\n",
    "- 대학원생 이동진씨는 실험을 하다가 오랜만에 나온 실험 결과가 좋게 나온 것을 보고 노트북을 닫고 바로 교수님 연구실로 달려가 실험 결과를 말씀드리게 된다.\n",
    "- 노트북을 닫은 탓에 주피터 노트북은 shutdown 되었고, 교수님 앞에서 코드를 다시 돌려보니 실험 결과가 재현이 되지 않는다.\n",
    "- 이동진씨는 그날 이후로 그 꿈만 같던 결과를 두 번 다시 만나지 못하게 된다... \n",
    "- (이 이야기는 실화를 바탕으로 합니다.)\n",
    "\n",
    "<br>\n",
    "\n",
    "랜덤성에 의해 코드를 돌릴 때마다 실험 결과가 달라지는 것은 당연하다. 재현을 위해서 난수대신 내가 정한 숫자를 사용할 수는 없다. 하지만, 파이썬에서는 난수를 생성하되 난수의 생성 규칙을 랜덤 시드로 통제할 수 있다.\n",
    "\n",
    "<br>\n",
    "\n",
    "(참고) 디지털 세계에서 진짜 랜덤은 없다. 난수는 이전에 생성된 난수를 입력 받아 난수 생성 알고리즘에 따라 난수를 생성한다. 하지만 가장 첫 번째 난수를 생성할 때는 이전에 생성된 난수가 없다. 첫 번째 난수를 생성하는데 사용하는 값을 지정해주는 것을 랜덤 시드 설정이라고 한다. 사용자가 랜덤 시드를 설정해주지 않으면, 해당 값은 현재 시간을 기반으로 설정된다."
   ]
  },
  {
   "cell_type": "code",
   "execution_count": 3,
   "id": "5c5f7b8a",
   "metadata": {},
   "outputs": [],
   "source": [
    "seed = 0\n",
    "\n",
    "# np.random.seed(seed)"
   ]
  },
  {
   "cell_type": "code",
   "execution_count": 4,
   "id": "d360aa9f",
   "metadata": {},
   "outputs": [
    {
     "data": {
      "text/plain": [
       "0.3926448469376387"
      ]
     },
     "execution_count": 4,
     "metadata": {},
     "output_type": "execute_result"
    }
   ],
   "source": [
    "np.random.rand()"
   ]
  },
  {
   "cell_type": "code",
   "execution_count": 5,
   "id": "ddcc181d",
   "metadata": {},
   "outputs": [
    {
     "data": {
      "text/plain": [
       "0.45476185135814484"
      ]
     },
     "execution_count": 5,
     "metadata": {},
     "output_type": "execute_result"
    }
   ],
   "source": [
    "np.random.rand()"
   ]
  },
  {
   "cell_type": "code",
   "execution_count": 6,
   "id": "3e7d830a",
   "metadata": {},
   "outputs": [
    {
     "data": {
      "text/plain": [
       "0.052829510156351955"
      ]
     },
     "execution_count": 6,
     "metadata": {},
     "output_type": "execute_result"
    }
   ],
   "source": [
    "np.random.rand()"
   ]
  },
  {
   "cell_type": "markdown",
   "id": "ebdafb5b",
   "metadata": {},
   "source": [
    "실험 프로그램에서 라이브러리 임포트 후에 바로 랜덤 시드를 설정하여 재현 가능한 (reproducibility) 프로그램을 만들어주자. 실험 결과가 재현 가능하면 내 실험 결과에 대한 자신감이 생긴다. 코드와 함께 논문을 공개할 경우, 많은 독자로부터 실험 결과가 재현되지 않는다고 항의를 받을 수 있다. 랜덤 시드를 설정하면, 내 컴퓨터 뿐만 아니라 다른 대부분의 컴퓨터에서도 같은 실험 결과를 재현해준다."
   ]
  },
  {
   "cell_type": "code",
   "execution_count": 7,
   "id": "cd4c4887",
   "metadata": {},
   "outputs": [],
   "source": [
    "import random\n",
    "import numpy as np\n",
    "\n",
    "def seed_all(seed):\n",
    "    random.seed(seed)\n",
    "    np.random.seed(seed)\n",
    "    \n",
    "seed_all(seed)"
   ]
  },
  {
   "cell_type": "markdown",
   "id": "21485f9e",
   "metadata": {},
   "source": [
    "**(참고)** 파이토치 사용자용 재현 코드\n",
    "\n",
    "~~~python\n",
    "import torch\n",
    "import random\n",
    "import numpy as np\n",
    "\n",
    "\n",
    "def seed_all(seed):\n",
    "    random.seed(seed)\n",
    "    np.random.seed(seed)\n",
    "    torch.manual_seed(seed)\n",
    "    torch.cuda.manual_seed(seed)\n",
    "    torch.cuda.manual_seed_all(seed)\n",
    "    torch.backends.cudnn.benchmark = False\n",
    "    torch.backends.cudnn.deterministic = True\n",
    "~~~\n",
    "\n",
    "<br>\n",
    "\n",
    "**(참고)** 텐서플로우 2.8.0 이상용 재현 코드\n",
    "\n",
    "~~~python\n",
    "import os\n",
    "import random\n",
    "\n",
    "import numpy as np\n",
    "import tensorflow as tf\n",
    "\n",
    "\n",
    "def seed_all(seed):\n",
    "    os.environ['PYTHONHASHSEED'] = str(seed)\n",
    "    random.seed(seed)\n",
    "    np.random.seed(seed)\n",
    "    tf.random.set_seed(seed)\n",
    "    tf.config.experimental.enable_op_determinism()\n",
    "~~~"
   ]
  },
  {
   "cell_type": "markdown",
   "id": "904edeff",
   "metadata": {},
   "source": [
    "**(주의)** 시드가 첫 번째 난수를 생성하는데 사용되는 값을 설정하는 것을 유념해야 한다. 잘못된 위치에 시드를 설정할 경우 실험이 전혀 진행되지 않을 수 있다. "
   ]
  },
  {
   "cell_type": "code",
   "execution_count": 8,
   "id": "8210d932",
   "metadata": {},
   "outputs": [
    {
     "name": "stdout",
     "output_type": "stream",
     "text": [
      "15.292157037902994\n"
     ]
    }
   ],
   "source": [
    "s = 0\n",
    "count = 0\n",
    "history = []\n",
    "for i in range(n_trials):\n",
    "    np.random.seed(0)\n",
    "    x = np.random.normal(mu, std)\n",
    "    \n",
    "    s = s + x\n",
    "    count = count + 1\n",
    "    history.append(s / count)\n",
    "    \n",
    "print(history[-1])"
   ]
  },
  {
   "cell_type": "code",
   "execution_count": 9,
   "id": "585959d4",
   "metadata": {},
   "outputs": [
    {
     "data": {
      "image/png": "[encoded data removed]",
      "text/plain": [
       "<Figure size 432x288 with 1 Axes>"
      ]
     },
     "metadata": {
      "needs_background": "light"
     },
     "output_type": "display_data"
    }
   ],
   "source": [
    "import matplotlib.pyplot as plt\n",
    "\n",
    "plt.rcParams['font.family'] = 'serif'\n",
    "plt.rcParams['font.size']= 14\n",
    "\n",
    "plt.figure(figsize=(6, 4))\n",
    "plt.plot(history, 'k-')\n",
    "plt.hlines(mu, xmin=0, xmax=n_trials, linestyle='dashed', color='red')\n",
    "plt.grid()\n",
    "plt.show()"
   ]
  },
  {
   "cell_type": "markdown",
   "id": "29d27821",
   "metadata": {},
   "source": [
    "**(결과물)** 랜덤 시드 또한 실험 인자가 된다."
   ]
  },
  {
   "cell_type": "code",
   "execution_count": 10,
   "id": "1822d06f",
   "metadata": {},
   "outputs": [
    {
     "name": "stdout",
     "output_type": "stream",
     "text": [
      "11.425521572915157\n"
     ]
    },
    {
     "data": {
      "image/png": "[encoded data removed]",
      "text/plain": [
       "<Figure size 432x288 with 1 Axes>"
      ]
     },
     "metadata": {
      "needs_background": "light"
     },
     "output_type": "display_data"
    }
   ],
   "source": [
    "import numpy as np\n",
    "import matplotlib.pyplot as plt\n",
    "\n",
    "plt.rcParams['font.family'] = 'serif'\n",
    "plt.rcParams['font.size'] = 14\n",
    "\n",
    "# 실험 인자\n",
    "seed = 0\n",
    "mu = 10\n",
    "std = 3\n",
    "n_trials = 25\n",
    "\n",
    "# 실험 알고리즘\n",
    "def seed_all(seed):\n",
    "    random.seed(seed)\n",
    "    np.random.seed(seed)\n",
    "    \n",
    "seed_all(seed)\n",
    "\n",
    "s = 0\n",
    "count = 0\n",
    "history = []\n",
    "for i in range(n_trials):\n",
    "    x = np.random.normal(mu, std)\n",
    "    \n",
    "    s = s + x\n",
    "    count = count + 1\n",
    "    history.append(s / count)\n",
    "    \n",
    "print(history[-1])\n",
    "\n",
    "plt.figure(figsize=(6, 4))\n",
    "plt.plot(history, 'k-')\n",
    "plt.hlines(mu, xmin=0, xmax=n_trials, linestyle='dashed', color='red')\n",
    "plt.grid()\n",
    "plt.show()"
   ]
  },
  {
   "cell_type": "markdown",
   "id": "2f1ae0c2",
   "metadata": {},
   "source": [
    "### 1.2 반복 실험하여 통계량 보고\n",
    "- 랜덤 시드를 설정하고 실험 결과가 재현 가능해진 대학원생 이동진씨.\n",
    "- 이를 악용한 이동진씨는 랜덤 시드를 계속 바꿔가며 좋은 결과를 찾아 실험 조작을 한다.\n",
    "- 좋은 결과를 만드는 시드를 찾아 그 값을 논문 기록하게 되는데 ...\n",
    "- (이 결과는 거의 실화를 바탕으로 합니다.)\n",
    "\n",
    "좋은 실험 결과를 찾아 랜덤 시드를 바꾸는 행위는 절대하면 안 된다. 좋은 알고리즘은 랜덤 시드에 따라 실험 결과가 크게 달라지지 않아야 한다. 랜덤 시드를 바꿔가며 실험을 하여 실험 결과들의 평균과 분산을 보고함으로써 알고리즘의 정확도와 정밀도를 보여줄 수 있다."
   ]
  },
  {
   "cell_type": "code",
   "execution_count": 11,
   "id": "c2fa12ae",
   "metadata": {},
   "outputs": [
    {
     "data": {
      "image/png": "[encoded data removed]",
      "text/plain": [
       "<Figure size 432x288 with 1 Axes>"
      ]
     },
     "metadata": {
      "needs_background": "light"
     },
     "output_type": "display_data"
    }
   ],
   "source": [
    "import numpy as np\n",
    "import matplotlib.pyplot as plt\n",
    "\n",
    "plt.rcParams['font.family'] = 'serif'\n",
    "plt.rcParams['font.size'] = 14\n",
    "\n",
    "# 실험 인자\n",
    "mu = 10\n",
    "std = 3\n",
    "n_trials = 25\n",
    "\n",
    "# 실험 알고리즘\n",
    "def seed_all(seed):\n",
    "    random.seed(seed)\n",
    "    np.random.seed(seed)\n",
    "\n",
    "plt.figure(figsize=(6, 4))\n",
    "plt.hlines(mu, xmin=0, xmax=n_trials, linestyle='dashed', color='red')\n",
    "plt.grid()\n",
    "for seed in range(0, 10):\n",
    "    seed_all(seed)\n",
    "\n",
    "    s = 0\n",
    "    count = 0\n",
    "    history = []\n",
    "    for i in range(n_trials):\n",
    "        x = np.random.normal(mu, std)\n",
    "\n",
    "        s = s + x\n",
    "        count = count + 1\n",
    "        history.append(s / count)\n",
    "\n",
    "    plt.plot(history, 'k-')\n",
    "    \n",
    "plt.show()"
   ]
  },
  {
   "cell_type": "markdown",
   "id": "6a461fe4",
   "metadata": {},
   "source": [
    "**(꿀팁)** `pandas.DataFrame`과 `seaborn.lineplot`을 사용하면 반복 실험 결과를 더 쉽게 요약해서 보여줄 수 있다."
   ]
  },
  {
   "cell_type": "code",
   "execution_count": 12,
   "id": "374dd978",
   "metadata": {},
   "outputs": [],
   "source": [
    "import numpy as np\n",
    "import pandas as pd\n",
    "import matplotlib.pyplot as plt\n",
    "import seaborn as sns\n",
    "\n",
    "plt.rcParams['font.family'] = 'serif'\n",
    "plt.rcParams['font.size'] = 14\n",
    "\n",
    "# 실험 인자\n",
    "mu = 10\n",
    "std = 3\n",
    "n_trials = 25\n",
    "\n",
    "# 실험 알고리즘\n",
    "def seed_all(seed):\n",
    "    random.seed(seed)\n",
    "    np.random.seed(seed)\n",
    "\n",
    "table = []\n",
    "for seed in range(0, 10):\n",
    "    seed_all(seed)\n",
    "\n",
    "    s = 0\n",
    "    count = 0\n",
    "    for i in range(n_trials):\n",
    "        x = np.random.normal(mu, std)\n",
    "\n",
    "        s = s + x\n",
    "        count = count + 1\n",
    "        \n",
    "        table.append([seed, i, s / count])\n",
    "    \n",
    "table = pd.DataFrame(table)\n",
    "table.columns = ['seed', 'step', 'avg']"
   ]
  },
  {
   "cell_type": "code",
   "execution_count": 13,
   "id": "a3b0079b",
   "metadata": {},
   "outputs": [
    {
     "data": {
      "image/png": "[encoded data removed]",
      "text/plain": [
       "<Figure size 432x288 with 1 Axes>"
      ]
     },
     "metadata": {
      "needs_background": "light"
     },
     "output_type": "display_data"
    }
   ],
   "source": [
    "plt.figure(figsize=(6, 4))\n",
    "plt.hlines(mu, xmin=0, xmax=n_trials, linestyle='dashed', color='red')\n",
    "sns.lineplot(x='step', y='avg', data=table, color='black')  #\n",
    "plt.grid()\n",
    "plt.show()"
   ]
  },
  {
   "cell_type": "markdown",
   "id": "72c2ba7f",
   "metadata": {},
   "source": [
    "## 2. 모듈화\n",
    "주피터 노트북은 코드 결과를 바로 바로 볼 수 있다는 점에서 정말 좋다. 너무 좋아서 계속 코딩하다 보면 주피터 노트북 길이가 굉장히 길어지게 된다. 이번 장에서는 모듈화를 하여 짧고 재활용 가능하며 수정 및 관리가 용이한 모듈화 대해서 알아볼 것이다.\n",
    "\n",
    "<br>\n",
    "\n",
    "지금까지 실험 코드와 시각화 코드를 복사 붙여넣기하여 사용했다. 가장 마지막 코드 기준으로 실험 코드는 34줄이며, 시각화 코드는 4줄이다. 라이브러리를 잘 사용하면 한 줄만으로도 내가 원하는 결과를 볼 수 있다. `honeytips` 라이브러리에 있는 `plot` 함수를 사용해보자."
   ]
  },
  {
   "cell_type": "code",
   "execution_count": 14,
   "id": "10890d56",
   "metadata": {},
   "outputs": [
    {
     "data": {
      "image/png": "[encoded data removed]",
      "text/plain": [
       "<Figure size 432x288 with 1 Axes>"
      ]
     },
     "metadata": {
      "needs_background": "light"
     },
     "output_type": "display_data"
    }
   ],
   "source": [
    "from honeytips.plot import lineplot\n",
    "\n",
    "lineplot(table)"
   ]
  },
  {
   "cell_type": "markdown",
   "id": "288d8bd6",
   "metadata": {},
   "source": [
    "여러분들은 `honeytips` 라이브러리가 없어서 설치를 해줘야 할 것이다. 다음 코드셀에 다음과 같이 입력하여 `honeytips` 라이브러리를 설치해주자.\n",
    "\n",
    "~~~python\n",
    "!pip install honeytips\n",
    "~~~"
   ]
  },
  {
   "cell_type": "code",
   "execution_count": 15,
   "id": "d035d9a8",
   "metadata": {},
   "outputs": [
    {
     "name": "stderr",
     "output_type": "stream",
     "text": [
      "ERROR: Could not find a version that satisfies the requirement honeytips (from versions: none)\n",
      "ERROR: No matching distribution found for honeytips\n"
     ]
    }
   ],
   "source": [
    "!pip install honeytips"
   ]
  },
  {
   "cell_type": "markdown",
   "id": "5ff576aa",
   "metadata": {},
   "source": [
    "없다. 라이브러리가 없다. 그럼 대학원생 이동진씨가 사용한 `honeytips` 라이브러리는 무엇인가?<br>\n",
    "\n",
    "~~~python\n",
    "from honeytips.plot import lineplot\n",
    "~~~\n",
    "\n",
    "구문은 `honeytips` 폴더 안에 있는 `plot.py` 파일에 있는 `lineplot` 함수를 의미한다. 실험 안밖에서 자주 사용하는 코드들은 함수로 만들어놓고 `*.py` 파일에 저장해놓고 두고두고 사용하자.\n",
    "\n",
    "<br>\n",
    "\n",
    "**(참고)** `*.py`의 장점\n",
    "- 재활용성: `seed_all` 함수와 같이 모든 프로젝트에서 사용되는 코드는 함수로 짜놓으면 평생 가져다 사용할 수 있다.\n",
    "- 관리용이성: `*.py`에서 함수를 수정하면, 해당 함수를 가져다 쓰는 모든 주피터 노트북에도 적용된다. 뿐만 아니라 git과 함께 사용하면 내가 언제 이 파일은 어떻게 수정했는지 추적해놓고 볼 수 있다. \n",
    "    - **(예시)** \n",
    "    <img src='./figure1.jpg'>"
   ]
  },
  {
   "cell_type": "markdown",
   "id": "e6edbda5",
   "metadata": {},
   "source": [
    "### 2.1 클래스 만들기\n",
    "코딩을 처음 입문했다면 클래스가 어렵게만 느껴질 것이다. 클래스를 어렵게 생각하지 말고, 데이터와 함수를 동시에 저장할 수 있는 공간이라고 생각하자. 우리의 실험에서 데이터는 mu, std, n_trials 등이 될 것이다. 함수는 실험을 돌리는 함수나 시각화를 해주는 함수가 있을 것이다. 이때 데이터를 속성 (attribute)라고 부르고 함수를 메서드 (method)라고 부른다."
   ]
  },
  {
   "cell_type": "code",
   "execution_count": 16,
   "id": "bac0b6af",
   "metadata": {},
   "outputs": [],
   "source": [
    "class Experiment:\n",
    "    def __init__(self, mu, std, n_trials):\n",
    "        self.mu = mu\n",
    "        self.std = std\n",
    "        self.n_trials = n_trials\n",
    "        \n",
    "    def run(self, seed):\n",
    "        np.random.seed(seed)\n",
    "        \n",
    "        s = 0\n",
    "        count = 0\n",
    "        history = []\n",
    "        for i in range(self.n_trials):\n",
    "            x = np.random.normal(self.mu, self.std)\n",
    "\n",
    "            s = s + x\n",
    "            count = count + 1\n",
    "\n",
    "            history.append(s / count)\n",
    "            \n",
    "        self.history = history\n",
    "    \n",
    "    def visualize(self):\n",
    "        plt.figure(figsize=(6, 4))\n",
    "        plt.plot(self.history, 'k-')\n",
    "        plt.hlines(self.mu, xmin=0, xmax=self.n_trials, linestyle='dashed', color='red')\n",
    "        plt.grid()\n",
    "        plt.show()"
   ]
  },
  {
   "cell_type": "code",
   "execution_count": 17,
   "id": "887785dc",
   "metadata": {},
   "outputs": [],
   "source": [
    "mu = 10\n",
    "std = 3\n",
    "n_trials = 25\n",
    "\n",
    "exp = Experiment(mu, std, n_trials)\n",
    "exp.run(seed=0)"
   ]
  },
  {
   "cell_type": "code",
   "execution_count": 18,
   "id": "26b852e7",
   "metadata": {},
   "outputs": [
    {
     "data": {
      "image/png": "[encoded data removed]",
      "text/plain": [
       "<Figure size 432x288 with 1 Axes>"
      ]
     },
     "metadata": {
      "needs_background": "light"
     },
     "output_type": "display_data"
    }
   ],
   "source": [
    "exp.visualize()"
   ]
  },
  {
   "cell_type": "markdown",
   "id": "29ed5260",
   "metadata": {},
   "source": [
    "## 3. 효율적인 실험 로깅 - Weight and Bias (WanDB)\n",
    "우리의 예제 실험의 경우 데이터를 하나 뽑고 표본 평균을 구하는 과정이 굉장히 짧다. 실험 한번에 소요되는 시간도 엄청 짧은 편이다. 하지만 대부분의 여러분들은 앞으로 실험을 시작하고 종료하기까지 엄청난 시간이 걸리는 실험을 많이 마주할 것이다.\n",
    "\n",
    "<br>\n",
    "\n",
    "소요 시간이 긴 실험에서 가장 답답한 부분은 내 프로그램이 잘 돌아가고 있는지. 성능은 올라가고 있는지 중간에 확인할 방법이 없다는 것이다. 로깅 (loggig)이란 실험 중간 중간 결과물을 기록하여 프로그램 밖 파일에 저장해주는 것을 의미한다. 가장 간단한 로깅은 그냥 `print`문을 사용해서 중간 산출물을 계속 출력해주는 것이다. <br>\n",
    "\n",
    "우리 예제의 경우, history 리스트 안에 표본 평균을 저장해주는 것으로는 프로그램이 종료된 후에야 결과를 확인할 수 있다. 중간 표본평균을 출력해줘서 중간 수렴 정도를 알 수 있다.\n",
    "\n"
   ]
  },
  {
   "cell_type": "code",
   "execution_count": 19,
   "id": "97f5cab8",
   "metadata": {
    "scrolled": true
   },
   "outputs": [
    {
     "name": "stdout",
     "output_type": "stream",
     "text": [
      "15.292157037902992\n",
      "13.246314331502331\n",
      "13.142947538440628\n",
      "14.037880553231563\n",
      "14.350839236675231\n",
      "13.13706042395782\n",
      "13.0960896851891\n",
      "12.652319521428826\n",
      "12.323211068449993\n",
      "12.214069512186505\n",
      "12.0520750759407\n",
      "12.244637196353052\n",
      "12.247596887052122\n",
      "12.113127470082576\n",
      "12.06102495195949\n",
      "11.994774828844697\n",
      "12.141096145940468\n",
      "11.98795331609392\n",
      "11.932755936560172\n",
      "11.708003778836904\n",
      "11.261957434725517\n",
      "11.293725541616224\n",
      "11.35022915270154\n",
      "11.201198977121505\n",
      "11.425521572915157\n"
     ]
    }
   ],
   "source": [
    "import numpy as np\n",
    "import matplotlib.pyplot as plt\n",
    "\n",
    "plt.rcParams['font.family'] = 'serif'\n",
    "plt.rcParams['font.size'] = 14\n",
    "\n",
    "# 실험 인자\n",
    "seed = 0\n",
    "mu = 10\n",
    "std = 3\n",
    "n_trials = 25\n",
    "\n",
    "# 실험 알고리즘\n",
    "def seed_all(seed):\n",
    "    random.seed(seed)\n",
    "    np.random.seed(seed)\n",
    "    \n",
    "seed_all(seed)\n",
    "\n",
    "s = 0\n",
    "count = 0\n",
    "history = []\n",
    "for i in range(n_trials):\n",
    "    x = np.random.normal(mu, std)\n",
    "    \n",
    "    s = s + x\n",
    "    count = count + 1\n",
    "    history.append(s / count)\n",
    "    print(s / count)\n"
   ]
  },
  {
   "cell_type": "markdown",
   "id": "a88d7d2d",
   "metadata": {},
   "source": [
    "이 방법은 간단하지만, 여러 개의 값을 보기 어렵기도 하고 프로그램 실행창 더러워진다는 단점이 있다. 다른 방법은 프로그램 밖에 텍스트 파일을 만들어서 로깅하는 것이다."
   ]
  },
  {
   "cell_type": "code",
   "execution_count": 20,
   "id": "59b38492",
   "metadata": {},
   "outputs": [],
   "source": [
    "import numpy as np\n",
    "import matplotlib.pyplot as plt\n",
    "\n",
    "plt.rcParams['font.family'] = 'serif'\n",
    "plt.rcParams['font.size'] = 14\n",
    "\n",
    "# 실험 인자\n",
    "seed = 0\n",
    "mu = 10\n",
    "std = 3\n",
    "n_trials = 25\n",
    "\n",
    "# 실험 알고리즘\n",
    "def seed_all(seed):\n",
    "    random.seed(seed)\n",
    "    np.random.seed(seed)\n",
    "    \n",
    "seed_all(seed)\n",
    "\n",
    "s = 0\n",
    "count = 0\n",
    "history = []\n",
    "\n",
    "f = open('./log.txt', 'w')\n",
    "for i in range(n_trials):\n",
    "    x = np.random.normal(mu, std)\n",
    "    \n",
    "    s = s + x\n",
    "    count = count + 1\n",
    "    history.append(s / count)\n",
    "    \n",
    "    f.write(f'{i}\\t{s / s+x}\\n')\n",
    "f.close()"
   ]
  },
  {
   "cell_type": "markdown",
   "id": "81a7d4fd",
   "metadata": {},
   "source": [
    "[Weight and Bias](https://wandb.ai/home)는 무료 실험 로깅 서비스이며 회원 가입만 하면 literally 미친 로깅 서비스를 경험할 수 있다.\n"
   ]
  },
  {
   "cell_type": "code",
   "execution_count": 21,
   "id": "c96249c9",
   "metadata": {},
   "outputs": [
    {
     "name": "stderr",
     "output_type": "stream",
     "text": [
      "\u001b[34m\u001b[1mwandb\u001b[0m: Currently logged in as: \u001b[33mdongjinlee\u001b[0m. Use \u001b[1m`wandb login --relogin`\u001b[0m to force relogin\n"
     ]
    },
    {
     "data": {
      "text/html": [
       "Tracking run with wandb version 0.13.5"
      ],
      "text/plain": [
       "<IPython.core.display.HTML object>"
      ]
     },
     "metadata": {},
     "output_type": "display_data"
    },
    {
     "data": {
      "text/html": [
       "Run data is saved locally in <code>C:\\Users\\mostp\\OneDrive - postech.ac.kr\\projects\\post\\tips\\wandb\\run-20221111_001847-xa9igk2b</code>"
      ],
      "text/plain": [
       "<IPython.core.display.HTML object>"
      ]
     },
     "metadata": {},
     "output_type": "display_data"
    },
    {
     "data": {
      "text/html": [
       "Syncing run <strong><a href=\"https://wandb.ai/dongjinlee/tips/runs/xa9igk2b\" target=\"_blank\">0</a></strong> to <a href=\"https://wandb.ai/dongjinlee/tips\" target=\"_blank\">Weights & Biases</a> (<a href=\"https://wandb.me/run\" target=\"_blank\">docs</a>)<br/>"
      ],
      "text/plain": [
       "<IPython.core.display.HTML object>"
      ]
     },
     "metadata": {},
     "output_type": "display_data"
    },
    {
     "data": {
      "text/html": [
       "Waiting for W&B process to finish... <strong style=\"color:green\">(success).</strong>"
      ],
      "text/plain": [
       "<IPython.core.display.HTML object>"
      ]
     },
     "metadata": {},
     "output_type": "display_data"
    },
    {
     "data": {
      "application/vnd.jupyter.widget-view+json": {
       "model_id": "abbdfd3b081940f2b2107e5d633a9104",
       "version_major": 2,
       "version_minor": 0
      },
      "text/plain": [
       "VBox(children=(Label(value='0.001 MB of 0.007 MB uploaded (0.000 MB deduped)\\r'), FloatProgress(value=0.146656…"
      ]
     },
     "metadata": {},
     "output_type": "display_data"
    },
    {
     "data": {
      "text/html": [
       "<style>\n",
       "    table.wandb td:nth-child(1) { padding: 0 10px; text-align: left ; width: auto;} td:nth-child(2) {text-align: left ; width: 100%}\n",
       "    .wandb-row { display: flex; flex-direction: row; flex-wrap: wrap; justify-content: flex-start; width: 100% }\n",
       "    .wandb-col { display: flex; flex-direction: column; flex-basis: 100%; flex: 1; padding: 10px; }\n",
       "    </style>\n",
       "<div class=\"wandb-row\"><div class=\"wandb-col\"><h3>Run history:</h3><br/><table class=\"wandb\"><tr><td>Sample Mean</td><td>█▄▄▆▆▄▄▃▃▃▂▃▃▃▂▂▃▂▂▂▁▁▁▁▁</td></tr><tr><td>Step</td><td>▁▁▂▂▂▂▃▃▃▄▄▄▅▅▅▅▆▆▆▇▇▇▇██</td></tr></table><br/></div><div class=\"wandb-col\"><h3>Run summary:</h3><br/><table class=\"wandb\"><tr><td>Sample Mean</td><td>11.42552</td></tr><tr><td>Step</td><td>24</td></tr></table><br/></div></div>"
      ],
      "text/plain": [
       "<IPython.core.display.HTML object>"
      ]
     },
     "metadata": {},
     "output_type": "display_data"
    },
    {
     "data": {
      "text/html": [
       "Synced <strong style=\"color:#cdcd00\">0</strong>: <a href=\"https://wandb.ai/dongjinlee/tips/runs/xa9igk2b\" target=\"_blank\">https://wandb.ai/dongjinlee/tips/runs/xa9igk2b</a><br/>Synced 5 W&B file(s), 0 media file(s), 0 artifact file(s) and 0 other file(s)"
      ],
      "text/plain": [
       "<IPython.core.display.HTML object>"
      ]
     },
     "metadata": {},
     "output_type": "display_data"
    },
    {
     "data": {
      "text/html": [
       "Find logs at: <code>.\\wandb\\run-20221111_001847-xa9igk2b\\logs</code>"
      ],
      "text/plain": [
       "<IPython.core.display.HTML object>"
      ]
     },
     "metadata": {},
     "output_type": "display_data"
    }
   ],
   "source": [
    "import wandb\n",
    "import numpy as np\n",
    "\n",
    "# 실험 인자\n",
    "seed = 0\n",
    "mu = 10\n",
    "std = 3\n",
    "n_trials = 25\n",
    "\n",
    "# 실험 알고리즘\n",
    "def seed_all(seed):\n",
    "    random.seed(seed)\n",
    "    np.random.seed(seed)\n",
    "    \n",
    "seed_all(seed)\n",
    "wandb.init(project='tips', name=str(seed), config={'seed': seed, 'mu': mu, 'std': std, 'n_trials': n_trials})\n",
    "\n",
    "s = 0\n",
    "count = 0\n",
    "history = []\n",
    "for i in range(n_trials):\n",
    "    x = np.random.normal(mu, std)\n",
    "    \n",
    "    s = s + x\n",
    "    count = count + 1\n",
    "    history.append(s / count)\n",
    "    \n",
    "    wandb.log({'Step': i, 'Sample Mean': s / count})\n",
    "    \n",
    "wandb.finish()"
   ]
  },
  {
   "cell_type": "markdown",
   "id": "b36da67b",
   "metadata": {},
   "source": [
    "[Weight and Bias](https://wandb.ai/home)의 literally 미친 기능은 반복 실험, 비교 실험에 있다.\n"
   ]
  },
  {
   "cell_type": "code",
   "execution_count": 22,
   "id": "9567d5e1",
   "metadata": {},
   "outputs": [
    {
     "data": {
      "application/vnd.jupyter.widget-view+json": {
       "model_id": "99aaacd9733d4700b420f5cdb24d8c99",
       "version_major": 2,
       "version_minor": 0
      },
      "text/plain": [
       "VBox(children=(Label(value='Waiting for wandb.init()...\\r'), FloatProgress(value=0.016666666666666666, max=1.0…"
      ]
     },
     "metadata": {},
     "output_type": "display_data"
    },
    {
     "data": {
      "text/html": [
       "Tracking run with wandb version 0.13.5"
      ],
      "text/plain": [
       "<IPython.core.display.HTML object>"
      ]
     },
     "metadata": {},
     "output_type": "display_data"
    },
    {
     "data": {
      "text/html": [
       "Run data is saved locally in <code>C:\\Users\\mostp\\OneDrive - postech.ac.kr\\projects\\post\\tips\\wandb\\run-20221111_001856-20cit9qz</code>"
      ],
      "text/plain": [
       "<IPython.core.display.HTML object>"
      ]
     },
     "metadata": {},
     "output_type": "display_data"
    },
    {
     "data": {
      "text/html": [
       "Syncing run <strong><a href=\"https://wandb.ai/dongjinlee/tips2/runs/20cit9qz\" target=\"_blank\">0</a></strong> to <a href=\"https://wandb.ai/dongjinlee/tips2\" target=\"_blank\">Weights & Biases</a> (<a href=\"https://wandb.me/run\" target=\"_blank\">docs</a>)<br/>"
      ],
      "text/plain": [
       "<IPython.core.display.HTML object>"
      ]
     },
     "metadata": {},
     "output_type": "display_data"
    },
    {
     "data": {
      "text/html": [
       "Waiting for W&B process to finish... <strong style=\"color:green\">(success).</strong>"
      ],
      "text/plain": [
       "<IPython.core.display.HTML object>"
      ]
     },
     "metadata": {},
     "output_type": "display_data"
    },
    {
     "data": {
      "application/vnd.jupyter.widget-view+json": {
       "model_id": "d228c304ec644fdb9adfd74bd7e47079",
       "version_major": 2,
       "version_minor": 0
      },
      "text/plain": [
       "VBox(children=(Label(value='0.001 MB of 0.007 MB uploaded (0.000 MB deduped)\\r'), FloatProgress(value=0.146438…"
      ]
     },
     "metadata": {},
     "output_type": "display_data"
    },
    {
     "data": {
      "text/html": [
       "<style>\n",
       "    table.wandb td:nth-child(1) { padding: 0 10px; text-align: left ; width: auto;} td:nth-child(2) {text-align: left ; width: 100%}\n",
       "    .wandb-row { display: flex; flex-direction: row; flex-wrap: wrap; justify-content: flex-start; width: 100% }\n",
       "    .wandb-col { display: flex; flex-direction: column; flex-basis: 100%; flex: 1; padding: 10px; }\n",
       "    </style>\n",
       "<div class=\"wandb-row\"><div class=\"wandb-col\"><h3>Run history:</h3><br/><table class=\"wandb\"><tr><td>Sample Mean</td><td>█▄▄▆▆▄▄▃▃▃▂▃▃▃▂▂▃▂▂▂▁▁▁▁▁</td></tr><tr><td>Step</td><td>▁▁▂▂▂▂▃▃▃▄▄▄▅▅▅▅▆▆▆▇▇▇▇██</td></tr></table><br/></div><div class=\"wandb-col\"><h3>Run summary:</h3><br/><table class=\"wandb\"><tr><td>Sample Mean</td><td>11.42552</td></tr><tr><td>Step</td><td>24</td></tr></table><br/></div></div>"
      ],
      "text/plain": [
       "<IPython.core.display.HTML object>"
      ]
     },
     "metadata": {},
     "output_type": "display_data"
    },
    {
     "data": {
      "text/html": [
       "Synced <strong style=\"color:#cdcd00\">0</strong>: <a href=\"https://wandb.ai/dongjinlee/tips2/runs/20cit9qz\" target=\"_blank\">https://wandb.ai/dongjinlee/tips2/runs/20cit9qz</a><br/>Synced 5 W&B file(s), 0 media file(s), 0 artifact file(s) and 0 other file(s)"
      ],
      "text/plain": [
       "<IPython.core.display.HTML object>"
      ]
     },
     "metadata": {},
     "output_type": "display_data"
    },
    {
     "data": {
      "text/html": [
       "Find logs at: <code>.\\wandb\\run-20221111_001856-20cit9qz\\logs</code>"
      ],
      "text/plain": [
       "<IPython.core.display.HTML object>"
      ]
     },
     "metadata": {},
     "output_type": "display_data"
    },
    {
     "data": {
      "application/vnd.jupyter.widget-view+json": {
       "model_id": "e785e2c925b347ffb931798bee829234",
       "version_major": 2,
       "version_minor": 0
      },
      "text/plain": [
       "VBox(children=(Label(value='Waiting for wandb.init()...\\r'), FloatProgress(value=0.016933333330477276, max=1.0…"
      ]
     },
     "metadata": {},
     "output_type": "display_data"
    },
    {
     "data": {
      "text/html": [
       "Tracking run with wandb version 0.13.5"
      ],
      "text/plain": [
       "<IPython.core.display.HTML object>"
      ]
     },
     "metadata": {},
     "output_type": "display_data"
    },
    {
     "data": {
      "text/html": [
       "Run data is saved locally in <code>C:\\Users\\mostp\\OneDrive - postech.ac.kr\\projects\\post\\tips\\wandb\\run-20221111_001906-2br1a8sa</code>"
      ],
      "text/plain": [
       "<IPython.core.display.HTML object>"
      ]
     },
     "metadata": {},
     "output_type": "display_data"
    },
    {
     "data": {
      "text/html": [
       "Syncing run <strong><a href=\"https://wandb.ai/dongjinlee/tips2/runs/2br1a8sa\" target=\"_blank\">1</a></strong> to <a href=\"https://wandb.ai/dongjinlee/tips2\" target=\"_blank\">Weights & Biases</a> (<a href=\"https://wandb.me/run\" target=\"_blank\">docs</a>)<br/>"
      ],
      "text/plain": [
       "<IPython.core.display.HTML object>"
      ]
     },
     "metadata": {},
     "output_type": "display_data"
    },
    {
     "data": {
      "text/html": [
       "Waiting for W&B process to finish... <strong style=\"color:green\">(success).</strong>"
      ],
      "text/plain": [
       "<IPython.core.display.HTML object>"
      ]
     },
     "metadata": {},
     "output_type": "display_data"
    },
    {
     "data": {
      "application/vnd.jupyter.widget-view+json": {
       "model_id": "9299e3ae165542afaa27e45416d59267",
       "version_major": 2,
       "version_minor": 0
      },
      "text/plain": [
       "VBox(children=(Label(value='0.001 MB of 0.007 MB uploaded (0.000 MB deduped)\\r'), FloatProgress(value=0.146603…"
      ]
     },
     "metadata": {},
     "output_type": "display_data"
    },
    {
     "data": {
      "text/html": [
       "<style>\n",
       "    table.wandb td:nth-child(1) { padding: 0 10px; text-align: left ; width: auto;} td:nth-child(2) {text-align: left ; width: 100%}\n",
       "    .wandb-row { display: flex; flex-direction: row; flex-wrap: wrap; justify-content: flex-start; width: 100% }\n",
       "    .wandb-col { display: flex; flex-direction: column; flex-basis: 100%; flex: 1; padding: 10px; }\n",
       "    </style>\n",
       "<div class=\"wandb-row\"><div class=\"wandb-col\"><h3>Run history:</h3><br/><table class=\"wandb\"><tr><td>Sample Mean</td><td>█▄▃▂▂▁▂▂▂▂▂▂▂▂▂▂▂▂▂▂▂▂▂▂▂</td></tr><tr><td>Step</td><td>▁▁▂▂▂▂▃▃▃▄▄▄▅▅▅▅▆▆▆▇▇▇▇██</td></tr></table><br/></div><div class=\"wandb-col\"><h3>Run summary:</h3><br/><table class=\"wandb\"><tr><td>Sample Mean</td><td>9.96181</td></tr><tr><td>Step</td><td>24</td></tr></table><br/></div></div>"
      ],
      "text/plain": [
       "<IPython.core.display.HTML object>"
      ]
     },
     "metadata": {},
     "output_type": "display_data"
    },
    {
     "data": {
      "text/html": [
       "Synced <strong style=\"color:#cdcd00\">1</strong>: <a href=\"https://wandb.ai/dongjinlee/tips2/runs/2br1a8sa\" target=\"_blank\">https://wandb.ai/dongjinlee/tips2/runs/2br1a8sa</a><br/>Synced 5 W&B file(s), 0 media file(s), 0 artifact file(s) and 0 other file(s)"
      ],
      "text/plain": [
       "<IPython.core.display.HTML object>"
      ]
     },
     "metadata": {},
     "output_type": "display_data"
    },
    {
     "data": {
      "text/html": [
       "Find logs at: <code>.\\wandb\\run-20221111_001906-2br1a8sa\\logs</code>"
      ],
      "text/plain": [
       "<IPython.core.display.HTML object>"
      ]
     },
     "metadata": {},
     "output_type": "display_data"
    },
    {
     "data": {
      "application/vnd.jupyter.widget-view+json": {
       "model_id": "6c86d3fad36349a9a9ce8ad9a9a185f9",
       "version_major": 2,
       "version_minor": 0
      },
      "text/plain": [
       "VBox(children=(Label(value='Waiting for wandb.init()...\\r'), FloatProgress(value=0.016666666666666666, max=1.0…"
      ]
     },
     "metadata": {},
     "output_type": "display_data"
    },
    {
     "data": {
      "text/html": [
       "Tracking run with wandb version 0.13.5"
      ],
      "text/plain": [
       "<IPython.core.display.HTML object>"
      ]
     },
     "metadata": {},
     "output_type": "display_data"
    },
    {
     "data": {
      "text/html": [
       "Run data is saved locally in <code>C:\\Users\\mostp\\OneDrive - postech.ac.kr\\projects\\post\\tips\\wandb\\run-20221111_001916-19l7o8bb</code>"
      ],
      "text/plain": [
       "<IPython.core.display.HTML object>"
      ]
     },
     "metadata": {},
     "output_type": "display_data"
    },
    {
     "data": {
      "text/html": [
       "Syncing run <strong><a href=\"https://wandb.ai/dongjinlee/tips2/runs/19l7o8bb\" target=\"_blank\">2</a></strong> to <a href=\"https://wandb.ai/dongjinlee/tips2\" target=\"_blank\">Weights & Biases</a> (<a href=\"https://wandb.me/run\" target=\"_blank\">docs</a>)<br/>"
      ],
      "text/plain": [
       "<IPython.core.display.HTML object>"
      ]
     },
     "metadata": {},
     "output_type": "display_data"
    },
    {
     "data": {
      "text/html": [
       "Waiting for W&B process to finish... <strong style=\"color:green\">(success).</strong>"
      ],
      "text/plain": [
       "<IPython.core.display.HTML object>"
      ]
     },
     "metadata": {},
     "output_type": "display_data"
    },
    {
     "data": {
      "application/vnd.jupyter.widget-view+json": {
       "model_id": "ce6be61293e64dc08a3b8ac3bdeae5f1",
       "version_major": 2,
       "version_minor": 0
      },
      "text/plain": [
       "VBox(children=(Label(value='0.001 MB of 0.007 MB uploaded (0.000 MB deduped)\\r'), FloatProgress(value=0.146675…"
      ]
     },
     "metadata": {},
     "output_type": "display_data"
    },
    {
     "data": {
      "text/html": [
       "<style>\n",
       "    table.wandb td:nth-child(1) { padding: 0 10px; text-align: left ; width: auto;} td:nth-child(2) {text-align: left ; width: 100%}\n",
       "    .wandb-row { display: flex; flex-direction: row; flex-wrap: wrap; justify-content: flex-start; width: 100% }\n",
       "    .wandb-col { display: flex; flex-direction: column; flex-basis: 100%; flex: 1; padding: 10px; }\n",
       "    </style>\n",
       "<div class=\"wandb-row\"><div class=\"wandb-col\"><h3>Run history:</h3><br/><table class=\"wandb\"><tr><td>Sample Mean</td><td>▆█▁▇▄▄▅▄▄▃▅▇▇▇▇▇▇███▇██▇▇</td></tr><tr><td>Step</td><td>▁▁▂▂▂▂▃▃▃▄▄▄▅▅▅▅▆▆▆▇▇▇▇██</td></tr></table><br/></div><div class=\"wandb-col\"><h3>Run summary:</h3><br/><table class=\"wandb\"><tr><td>Sample Mean</td><td>9.24498</td></tr><tr><td>Step</td><td>24</td></tr></table><br/></div></div>"
      ],
      "text/plain": [
       "<IPython.core.display.HTML object>"
      ]
     },
     "metadata": {},
     "output_type": "display_data"
    },
    {
     "data": {
      "text/html": [
       "Synced <strong style=\"color:#cdcd00\">2</strong>: <a href=\"https://wandb.ai/dongjinlee/tips2/runs/19l7o8bb\" target=\"_blank\">https://wandb.ai/dongjinlee/tips2/runs/19l7o8bb</a><br/>Synced 5 W&B file(s), 0 media file(s), 0 artifact file(s) and 0 other file(s)"
      ],
      "text/plain": [
       "<IPython.core.display.HTML object>"
      ]
     },
     "metadata": {},
     "output_type": "display_data"
    },
    {
     "data": {
      "text/html": [
       "Find logs at: <code>.\\wandb\\run-20221111_001916-19l7o8bb\\logs</code>"
      ],
      "text/plain": [
       "<IPython.core.display.HTML object>"
      ]
     },
     "metadata": {},
     "output_type": "display_data"
    },
    {
     "data": {
      "application/vnd.jupyter.widget-view+json": {
       "model_id": "1f4f5a61b5704f37af05fc7d7b92d13c",
       "version_major": 2,
       "version_minor": 0
      },
      "text/plain": [
       "VBox(children=(Label(value='Waiting for wandb.init()...\\r'), FloatProgress(value=0.016933333330477276, max=1.0…"
      ]
     },
     "metadata": {},
     "output_type": "display_data"
    },
    {
     "data": {
      "text/html": [
       "Tracking run with wandb version 0.13.5"
      ],
      "text/plain": [
       "<IPython.core.display.HTML object>"
      ]
     },
     "metadata": {},
     "output_type": "display_data"
    },
    {
     "data": {
      "text/html": [
       "Run data is saved locally in <code>C:\\Users\\mostp\\OneDrive - postech.ac.kr\\projects\\post\\tips\\wandb\\run-20221111_001926-2barvcap</code>"
      ],
      "text/plain": [
       "<IPython.core.display.HTML object>"
      ]
     },
     "metadata": {},
     "output_type": "display_data"
    },
    {
     "data": {
      "text/html": [
       "Syncing run <strong><a href=\"https://wandb.ai/dongjinlee/tips2/runs/2barvcap\" target=\"_blank\">3</a></strong> to <a href=\"https://wandb.ai/dongjinlee/tips2\" target=\"_blank\">Weights & Biases</a> (<a href=\"https://wandb.me/run\" target=\"_blank\">docs</a>)<br/>"
      ],
      "text/plain": [
       "<IPython.core.display.HTML object>"
      ]
     },
     "metadata": {},
     "output_type": "display_data"
    },
    {
     "data": {
      "text/html": [
       "Waiting for W&B process to finish... <strong style=\"color:green\">(success).</strong>"
      ],
      "text/plain": [
       "<IPython.core.display.HTML object>"
      ]
     },
     "metadata": {},
     "output_type": "display_data"
    },
    {
     "data": {
      "application/vnd.jupyter.widget-view+json": {
       "model_id": "bd7f611262cc4a5cb6150d71a219ab70",
       "version_major": 2,
       "version_minor": 0
      },
      "text/plain": [
       "VBox(children=(Label(value='0.001 MB of 0.007 MB uploaded (0.000 MB deduped)\\r'), FloatProgress(value=0.146547…"
      ]
     },
     "metadata": {},
     "output_type": "display_data"
    },
    {
     "data": {
      "text/html": [
       "<style>\n",
       "    table.wandb td:nth-child(1) { padding: 0 10px; text-align: left ; width: auto;} td:nth-child(2) {text-align: left ; width: 100%}\n",
       "    .wandb-row { display: flex; flex-direction: row; flex-wrap: wrap; justify-content: flex-start; width: 100% }\n",
       "    .wandb-col { display: flex; flex-direction: column; flex-basis: 100%; flex: 1; padding: 10px; }\n",
       "    </style>\n",
       "<div class=\"wandb-row\"><div class=\"wandb-col\"><h3>Run history:</h3><br/><table class=\"wandb\"><tr><td>Sample Mean</td><td>█▆▅▂▂▂▂▁▁▁▁▁▂▂▂▂▂▂▂▂▁▁▂▂▂</td></tr><tr><td>Step</td><td>▁▁▂▂▂▂▃▃▃▄▄▄▅▅▅▅▆▆▆▇▇▇▇██</td></tr></table><br/></div><div class=\"wandb-col\"><h3>Run summary:</h3><br/><table class=\"wandb\"><tr><td>Sample Mean</td><td>9.70001</td></tr><tr><td>Step</td><td>24</td></tr></table><br/></div></div>"
      ],
      "text/plain": [
       "<IPython.core.display.HTML object>"
      ]
     },
     "metadata": {},
     "output_type": "display_data"
    },
    {
     "data": {
      "text/html": [
       "Synced <strong style=\"color:#cdcd00\">3</strong>: <a href=\"https://wandb.ai/dongjinlee/tips2/runs/2barvcap\" target=\"_blank\">https://wandb.ai/dongjinlee/tips2/runs/2barvcap</a><br/>Synced 5 W&B file(s), 0 media file(s), 0 artifact file(s) and 0 other file(s)"
      ],
      "text/plain": [
       "<IPython.core.display.HTML object>"
      ]
     },
     "metadata": {},
     "output_type": "display_data"
    },
    {
     "data": {
      "text/html": [
       "Find logs at: <code>.\\wandb\\run-20221111_001926-2barvcap\\logs</code>"
      ],
      "text/plain": [
       "<IPython.core.display.HTML object>"
      ]
     },
     "metadata": {},
     "output_type": "display_data"
    },
    {
     "data": {
      "application/vnd.jupyter.widget-view+json": {
       "model_id": "3d86f49d90744431a121b775978befd3",
       "version_major": 2,
       "version_minor": 0
      },
      "text/plain": [
       "VBox(children=(Label(value='Waiting for wandb.init()...\\r'), FloatProgress(value=0.01693333333435779, max=1.0)…"
      ]
     },
     "metadata": {},
     "output_type": "display_data"
    },
    {
     "data": {
      "text/html": [
       "Tracking run with wandb version 0.13.5"
      ],
      "text/plain": [
       "<IPython.core.display.HTML object>"
      ]
     },
     "metadata": {},
     "output_type": "display_data"
    },
    {
     "data": {
      "text/html": [
       "Run data is saved locally in <code>C:\\Users\\mostp\\OneDrive - postech.ac.kr\\projects\\post\\tips\\wandb\\run-20221111_001942-2l68i6q9</code>"
      ],
      "text/plain": [
       "<IPython.core.display.HTML object>"
      ]
     },
     "metadata": {},
     "output_type": "display_data"
    },
    {
     "data": {
      "text/html": [
       "Syncing run <strong><a href=\"https://wandb.ai/dongjinlee/tips2/runs/2l68i6q9\" target=\"_blank\">4</a></strong> to <a href=\"https://wandb.ai/dongjinlee/tips2\" target=\"_blank\">Weights & Biases</a> (<a href=\"https://wandb.me/run\" target=\"_blank\">docs</a>)<br/>"
      ],
      "text/plain": [
       "<IPython.core.display.HTML object>"
      ]
     },
     "metadata": {},
     "output_type": "display_data"
    },
    {
     "data": {
      "text/html": [
       "Waiting for W&B process to finish... <strong style=\"color:green\">(success).</strong>"
      ],
      "text/plain": [
       "<IPython.core.display.HTML object>"
      ]
     },
     "metadata": {},
     "output_type": "display_data"
    },
    {
     "data": {
      "application/vnd.jupyter.widget-view+json": {
       "model_id": "7b430f57bc39437e9eb7c4e85b2a9460",
       "version_major": 2,
       "version_minor": 0
      },
      "text/plain": [
       "VBox(children=(Label(value='0.001 MB of 0.007 MB uploaded (0.000 MB deduped)\\r'), FloatProgress(value=0.146656…"
      ]
     },
     "metadata": {},
     "output_type": "display_data"
    },
    {
     "data": {
      "text/html": [
       "<style>\n",
       "    table.wandb td:nth-child(1) { padding: 0 10px; text-align: left ; width: auto;} td:nth-child(2) {text-align: left ; width: 100%}\n",
       "    .wandb-row { display: flex; flex-direction: row; flex-wrap: wrap; justify-content: flex-start; width: 100% }\n",
       "    .wandb-col { display: flex; flex-direction: column; flex-basis: 100%; flex: 1; padding: 10px; }\n",
       "    </style>\n",
       "<div class=\"wandb-row\"><div class=\"wandb-col\"><h3>Run history:</h3><br/><table class=\"wandb\"><tr><td>Sample Mean</td><td>▅█▃▆▄▂▁▂▃▂▃▃▃▄▃▃▃▄▅▅▄▄▄▄▅</td></tr><tr><td>Step</td><td>▁▁▂▂▂▂▃▃▃▄▄▄▅▅▅▅▆▆▆▇▇▇▇██</td></tr></table><br/></div><div class=\"wandb-col\"><h3>Run summary:</h3><br/><table class=\"wandb\"><tr><td>Sample Mean</td><td>9.97822</td></tr><tr><td>Step</td><td>24</td></tr></table><br/></div></div>"
      ],
      "text/plain": [
       "<IPython.core.display.HTML object>"
      ]
     },
     "metadata": {},
     "output_type": "display_data"
    },
    {
     "data": {
      "text/html": [
       "Synced <strong style=\"color:#cdcd00\">4</strong>: <a href=\"https://wandb.ai/dongjinlee/tips2/runs/2l68i6q9\" target=\"_blank\">https://wandb.ai/dongjinlee/tips2/runs/2l68i6q9</a><br/>Synced 5 W&B file(s), 0 media file(s), 0 artifact file(s) and 0 other file(s)"
      ],
      "text/plain": [
       "<IPython.core.display.HTML object>"
      ]
     },
     "metadata": {},
     "output_type": "display_data"
    },
    {
     "data": {
      "text/html": [
       "Find logs at: <code>.\\wandb\\run-20221111_001942-2l68i6q9\\logs</code>"
      ],
      "text/plain": [
       "<IPython.core.display.HTML object>"
      ]
     },
     "metadata": {},
     "output_type": "display_data"
    },
    {
     "data": {
      "application/vnd.jupyter.widget-view+json": {
       "model_id": "836346cc3403463d8bdf0a8396d2f99c",
       "version_major": 2,
       "version_minor": 0
      },
      "text/plain": [
       "VBox(children=(Label(value='Waiting for wandb.init()...\\r'), FloatProgress(value=0.01691666666883975, max=1.0)…"
      ]
     },
     "metadata": {},
     "output_type": "display_data"
    },
    {
     "data": {
      "text/html": [
       "Tracking run with wandb version 0.13.5"
      ],
      "text/plain": [
       "<IPython.core.display.HTML object>"
      ]
     },
     "metadata": {},
     "output_type": "display_data"
    },
    {
     "data": {
      "text/html": [
       "Run data is saved locally in <code>C:\\Users\\mostp\\OneDrive - postech.ac.kr\\projects\\post\\tips\\wandb\\run-20221111_001952-32r5o1kj</code>"
      ],
      "text/plain": [
       "<IPython.core.display.HTML object>"
      ]
     },
     "metadata": {},
     "output_type": "display_data"
    },
    {
     "data": {
      "text/html": [
       "Syncing run <strong><a href=\"https://wandb.ai/dongjinlee/tips2/runs/32r5o1kj\" target=\"_blank\">5</a></strong> to <a href=\"https://wandb.ai/dongjinlee/tips2\" target=\"_blank\">Weights & Biases</a> (<a href=\"https://wandb.me/run\" target=\"_blank\">docs</a>)<br/>"
      ],
      "text/plain": [
       "<IPython.core.display.HTML object>"
      ]
     },
     "metadata": {},
     "output_type": "display_data"
    },
    {
     "data": {
      "text/html": [
       "Waiting for W&B process to finish... <strong style=\"color:green\">(success).</strong>"
      ],
      "text/plain": [
       "<IPython.core.display.HTML object>"
      ]
     },
     "metadata": {},
     "output_type": "display_data"
    },
    {
     "data": {
      "application/vnd.jupyter.widget-view+json": {
       "model_id": "d7bfa4808bdf44b88c01c3c9089daf4d",
       "version_major": 2,
       "version_minor": 0
      },
      "text/plain": [
       "VBox(children=(Label(value='0.001 MB of 0.007 MB uploaded (0.000 MB deduped)\\r'), FloatProgress(value=0.146675…"
      ]
     },
     "metadata": {},
     "output_type": "display_data"
    },
    {
     "data": {
      "text/html": [
       "<style>\n",
       "    table.wandb td:nth-child(1) { padding: 0 10px; text-align: left ; width: auto;} td:nth-child(2) {text-align: left ; width: 100%}\n",
       "    .wandb-row { display: flex; flex-direction: row; flex-wrap: wrap; justify-content: flex-start; width: 100% }\n",
       "    .wandb-col { display: flex; flex-direction: column; flex-basis: 100%; flex: 1; padding: 10px; }\n",
       "    </style>\n",
       "<div class=\"wandb-row\"><div class=\"wandb-col\"><h3>Run history:</h3><br/><table class=\"wandb\"><tr><td>Sample Mean</td><td>▅▂█▆▅▇▅▄▄▃▂▂▂▂▁▁▂▂▂▂▂▁▁▁▁</td></tr><tr><td>Step</td><td>▁▁▂▂▂▂▃▃▃▄▄▄▅▅▅▅▆▆▆▇▇▇▇██</td></tr></table><br/></div><div class=\"wandb-col\"><h3>Run summary:</h3><br/><table class=\"wandb\"><tr><td>Sample Mean</td><td>9.85924</td></tr><tr><td>Step</td><td>24</td></tr></table><br/></div></div>"
      ],
      "text/plain": [
       "<IPython.core.display.HTML object>"
      ]
     },
     "metadata": {},
     "output_type": "display_data"
    },
    {
     "data": {
      "text/html": [
       "Synced <strong style=\"color:#cdcd00\">5</strong>: <a href=\"https://wandb.ai/dongjinlee/tips2/runs/32r5o1kj\" target=\"_blank\">https://wandb.ai/dongjinlee/tips2/runs/32r5o1kj</a><br/>Synced 5 W&B file(s), 0 media file(s), 0 artifact file(s) and 0 other file(s)"
      ],
      "text/plain": [
       "<IPython.core.display.HTML object>"
      ]
     },
     "metadata": {},
     "output_type": "display_data"
    },
    {
     "data": {
      "text/html": [
       "Find logs at: <code>.\\wandb\\run-20221111_001952-32r5o1kj\\logs</code>"
      ],
      "text/plain": [
       "<IPython.core.display.HTML object>"
      ]
     },
     "metadata": {},
     "output_type": "display_data"
    },
    {
     "data": {
      "application/vnd.jupyter.widget-view+json": {
       "model_id": "9740fe0b7efe41888a759748a1125a7f",
       "version_major": 2,
       "version_minor": 0
      },
      "text/plain": [
       "VBox(children=(Label(value='Waiting for wandb.init()...\\r'), FloatProgress(value=0.01691666666883975, max=1.0)…"
      ]
     },
     "metadata": {},
     "output_type": "display_data"
    },
    {
     "data": {
      "text/html": [
       "Tracking run with wandb version 0.13.5"
      ],
      "text/plain": [
       "<IPython.core.display.HTML object>"
      ]
     },
     "metadata": {},
     "output_type": "display_data"
    },
    {
     "data": {
      "text/html": [
       "Run data is saved locally in <code>C:\\Users\\mostp\\OneDrive - postech.ac.kr\\projects\\post\\tips\\wandb\\run-20221111_002002-10g3dubr</code>"
      ],
      "text/plain": [
       "<IPython.core.display.HTML object>"
      ]
     },
     "metadata": {},
     "output_type": "display_data"
    },
    {
     "data": {
      "text/html": [
       "Syncing run <strong><a href=\"https://wandb.ai/dongjinlee/tips2/runs/10g3dubr\" target=\"_blank\">6</a></strong> to <a href=\"https://wandb.ai/dongjinlee/tips2\" target=\"_blank\">Weights & Biases</a> (<a href=\"https://wandb.me/run\" target=\"_blank\">docs</a>)<br/>"
      ],
      "text/plain": [
       "<IPython.core.display.HTML object>"
      ]
     },
     "metadata": {},
     "output_type": "display_data"
    },
    {
     "data": {
      "text/html": [
       "Waiting for W&B process to finish... <strong style=\"color:green\">(success).</strong>"
      ],
      "text/plain": [
       "<IPython.core.display.HTML object>"
      ]
     },
     "metadata": {},
     "output_type": "display_data"
    },
    {
     "data": {
      "application/vnd.jupyter.widget-view+json": {
       "model_id": "48e3e082b5a549c9b39dd9870d35c41b",
       "version_major": 2,
       "version_minor": 0
      },
      "text/plain": [
       "VBox(children=(Label(value='0.001 MB of 0.007 MB uploaded (0.000 MB deduped)\\r'), FloatProgress(value=0.146528…"
      ]
     },
     "metadata": {},
     "output_type": "display_data"
    },
    {
     "data": {
      "text/html": [
       "<style>\n",
       "    table.wandb td:nth-child(1) { padding: 0 10px; text-align: left ; width: auto;} td:nth-child(2) {text-align: left ; width: 100%}\n",
       "    .wandb-row { display: flex; flex-direction: row; flex-wrap: wrap; justify-content: flex-start; width: 100% }\n",
       "    .wandb-col { display: flex; flex-direction: column; flex-basis: 100%; flex: 1; padding: 10px; }\n",
       "    </style>\n",
       "<div class=\"wandb-row\"><div class=\"wandb-col\"><h3>Run history:</h3><br/><table class=\"wandb\"><tr><td>Sample Mean</td><td>▃▇▇▅▁▃▅▃▅▅▇▇▇▇▇▇▇▇▇▇▇█▇▇▇</td></tr><tr><td>Step</td><td>▁▁▂▂▂▂▃▃▃▄▄▄▅▅▅▅▆▆▆▇▇▇▇██</td></tr></table><br/></div><div class=\"wandb-col\"><h3>Run summary:</h3><br/><table class=\"wandb\"><tr><td>Sample Mean</td><td>10.70774</td></tr><tr><td>Step</td><td>24</td></tr></table><br/></div></div>"
      ],
      "text/plain": [
       "<IPython.core.display.HTML object>"
      ]
     },
     "metadata": {},
     "output_type": "display_data"
    },
    {
     "data": {
      "text/html": [
       "Synced <strong style=\"color:#cdcd00\">6</strong>: <a href=\"https://wandb.ai/dongjinlee/tips2/runs/10g3dubr\" target=\"_blank\">https://wandb.ai/dongjinlee/tips2/runs/10g3dubr</a><br/>Synced 5 W&B file(s), 0 media file(s), 0 artifact file(s) and 0 other file(s)"
      ],
      "text/plain": [
       "<IPython.core.display.HTML object>"
      ]
     },
     "metadata": {},
     "output_type": "display_data"
    },
    {
     "data": {
      "text/html": [
       "Find logs at: <code>.\\wandb\\run-20221111_002002-10g3dubr\\logs</code>"
      ],
      "text/plain": [
       "<IPython.core.display.HTML object>"
      ]
     },
     "metadata": {},
     "output_type": "display_data"
    },
    {
     "data": {
      "application/vnd.jupyter.widget-view+json": {
       "model_id": "2b8ea42875c7488b8a7bd2d7062bdcda",
       "version_major": 2,
       "version_minor": 0
      },
      "text/plain": [
       "VBox(children=(Label(value='Waiting for wandb.init()...\\r'), FloatProgress(value=0.01691666666883975, max=1.0)…"
      ]
     },
     "metadata": {},
     "output_type": "display_data"
    },
    {
     "data": {
      "text/html": [
       "Tracking run with wandb version 0.13.5"
      ],
      "text/plain": [
       "<IPython.core.display.HTML object>"
      ]
     },
     "metadata": {},
     "output_type": "display_data"
    },
    {
     "data": {
      "text/html": [
       "Run data is saved locally in <code>C:\\Users\\mostp\\OneDrive - postech.ac.kr\\projects\\post\\tips\\wandb\\run-20221111_002012-36sa8lle</code>"
      ],
      "text/plain": [
       "<IPython.core.display.HTML object>"
      ]
     },
     "metadata": {},
     "output_type": "display_data"
    },
    {
     "data": {
      "text/html": [
       "Syncing run <strong><a href=\"https://wandb.ai/dongjinlee/tips2/runs/36sa8lle\" target=\"_blank\">7</a></strong> to <a href=\"https://wandb.ai/dongjinlee/tips2\" target=\"_blank\">Weights & Biases</a> (<a href=\"https://wandb.me/run\" target=\"_blank\">docs</a>)<br/>"
      ],
      "text/plain": [
       "<IPython.core.display.HTML object>"
      ]
     },
     "metadata": {},
     "output_type": "display_data"
    },
    {
     "data": {
      "text/html": [
       "Waiting for W&B process to finish... <strong style=\"color:green\">(success).</strong>"
      ],
      "text/plain": [
       "<IPython.core.display.HTML object>"
      ]
     },
     "metadata": {},
     "output_type": "display_data"
    },
    {
     "data": {
      "application/vnd.jupyter.widget-view+json": {
       "model_id": "407479c3ac6e4f978bcae7b94edac5bd",
       "version_major": 2,
       "version_minor": 0
      },
      "text/plain": [
       "VBox(children=(Label(value='0.001 MB of 0.007 MB uploaded (0.000 MB deduped)\\r'), FloatProgress(value=0.146528…"
      ]
     },
     "metadata": {},
     "output_type": "display_data"
    },
    {
     "data": {
      "text/html": [
       "<style>\n",
       "    table.wandb td:nth-child(1) { padding: 0 10px; text-align: left ; width: auto;} td:nth-child(2) {text-align: left ; width: 100%}\n",
       "    .wandb-row { display: flex; flex-direction: row; flex-wrap: wrap; justify-content: flex-start; width: 100% }\n",
       "    .wandb-col { display: flex; flex-direction: column; flex-basis: 100%; flex: 1; padding: 10px; }\n",
       "    </style>\n",
       "<div class=\"wandb-row\"><div class=\"wandb-col\"><h3>Run history:</h3><br/><table class=\"wandb\"><tr><td>Sample Mean</td><td>█▄▃▃▂▂▂▁▁▂▁▁▂▁▁▁▁▁▁▁▁▁▁▂▂</td></tr><tr><td>Step</td><td>▁▁▂▂▂▂▃▃▃▄▄▄▅▅▅▅▆▆▆▇▇▇▇██</td></tr></table><br/></div><div class=\"wandb-col\"><h3>Run summary:</h3><br/><table class=\"wandb\"><tr><td>Sample Mean</td><td>10.15835</td></tr><tr><td>Step</td><td>24</td></tr></table><br/></div></div>"
      ],
      "text/plain": [
       "<IPython.core.display.HTML object>"
      ]
     },
     "metadata": {},
     "output_type": "display_data"
    },
    {
     "data": {
      "text/html": [
       "Synced <strong style=\"color:#cdcd00\">7</strong>: <a href=\"https://wandb.ai/dongjinlee/tips2/runs/36sa8lle\" target=\"_blank\">https://wandb.ai/dongjinlee/tips2/runs/36sa8lle</a><br/>Synced 5 W&B file(s), 0 media file(s), 0 artifact file(s) and 0 other file(s)"
      ],
      "text/plain": [
       "<IPython.core.display.HTML object>"
      ]
     },
     "metadata": {},
     "output_type": "display_data"
    },
    {
     "data": {
      "text/html": [
       "Find logs at: <code>.\\wandb\\run-20221111_002012-36sa8lle\\logs</code>"
      ],
      "text/plain": [
       "<IPython.core.display.HTML object>"
      ]
     },
     "metadata": {},
     "output_type": "display_data"
    },
    {
     "data": {
      "application/vnd.jupyter.widget-view+json": {
       "model_id": "5599666afdaf482f977461248758c6bd",
       "version_major": 2,
       "version_minor": 0
      },
      "text/plain": [
       "VBox(children=(Label(value='Waiting for wandb.init()...\\r'), FloatProgress(value=0.01691666666495924, max=1.0)…"
      ]
     },
     "metadata": {},
     "output_type": "display_data"
    },
    {
     "data": {
      "text/html": [
       "Tracking run with wandb version 0.13.5"
      ],
      "text/plain": [
       "<IPython.core.display.HTML object>"
      ]
     },
     "metadata": {},
     "output_type": "display_data"
    },
    {
     "data": {
      "text/html": [
       "Run data is saved locally in <code>C:\\Users\\mostp\\OneDrive - postech.ac.kr\\projects\\post\\tips\\wandb\\run-20221111_002023-3ofucrqa</code>"
      ],
      "text/plain": [
       "<IPython.core.display.HTML object>"
      ]
     },
     "metadata": {},
     "output_type": "display_data"
    },
    {
     "data": {
      "text/html": [
       "Syncing run <strong><a href=\"https://wandb.ai/dongjinlee/tips2/runs/3ofucrqa\" target=\"_blank\">8</a></strong> to <a href=\"https://wandb.ai/dongjinlee/tips2\" target=\"_blank\">Weights & Biases</a> (<a href=\"https://wandb.me/run\" target=\"_blank\">docs</a>)<br/>"
      ],
      "text/plain": [
       "<IPython.core.display.HTML object>"
      ]
     },
     "metadata": {},
     "output_type": "display_data"
    },
    {
     "data": {
      "text/html": [
       "Waiting for W&B process to finish... <strong style=\"color:green\">(success).</strong>"
      ],
      "text/plain": [
       "<IPython.core.display.HTML object>"
      ]
     },
     "metadata": {},
     "output_type": "display_data"
    },
    {
     "data": {
      "application/vnd.jupyter.widget-view+json": {
       "model_id": "2ed54d867dce46708792a581c8606aca",
       "version_major": 2,
       "version_minor": 0
      },
      "text/plain": [
       "VBox(children=(Label(value='0.001 MB of 0.007 MB uploaded (0.000 MB deduped)\\r'), FloatProgress(value=0.146528…"
      ]
     },
     "metadata": {},
     "output_type": "display_data"
    },
    {
     "data": {
      "text/html": [
       "<style>\n",
       "    table.wandb td:nth-child(1) { padding: 0 10px; text-align: left ; width: auto;} td:nth-child(2) {text-align: left ; width: 100%}\n",
       "    .wandb-row { display: flex; flex-direction: row; flex-wrap: wrap; justify-content: flex-start; width: 100% }\n",
       "    .wandb-col { display: flex; flex-direction: column; flex-basis: 100%; flex: 1; padding: 10px; }\n",
       "    </style>\n",
       "<div class=\"wandb-row\"><div class=\"wandb-col\"><h3>Run history:</h3><br/><table class=\"wandb\"><tr><td>Sample Mean</td><td>▆█▄▃▁▄▅▆▇▇▆▇▆▆▆▆▆▆▆▆▆▆▆▆▅</td></tr><tr><td>Step</td><td>▁▁▂▂▂▂▃▃▃▄▄▄▅▅▅▅▆▆▆▇▇▇▇██</td></tr></table><br/></div><div class=\"wandb-col\"><h3>Run summary:</h3><br/><table class=\"wandb\"><tr><td>Sample Mean</td><td>10.13679</td></tr><tr><td>Step</td><td>24</td></tr></table><br/></div></div>"
      ],
      "text/plain": [
       "<IPython.core.display.HTML object>"
      ]
     },
     "metadata": {},
     "output_type": "display_data"
    },
    {
     "data": {
      "text/html": [
       "Synced <strong style=\"color:#cdcd00\">8</strong>: <a href=\"https://wandb.ai/dongjinlee/tips2/runs/3ofucrqa\" target=\"_blank\">https://wandb.ai/dongjinlee/tips2/runs/3ofucrqa</a><br/>Synced 5 W&B file(s), 0 media file(s), 0 artifact file(s) and 0 other file(s)"
      ],
      "text/plain": [
       "<IPython.core.display.HTML object>"
      ]
     },
     "metadata": {},
     "output_type": "display_data"
    },
    {
     "data": {
      "text/html": [
       "Find logs at: <code>.\\wandb\\run-20221111_002023-3ofucrqa\\logs</code>"
      ],
      "text/plain": [
       "<IPython.core.display.HTML object>"
      ]
     },
     "metadata": {},
     "output_type": "display_data"
    },
    {
     "data": {
      "application/vnd.jupyter.widget-view+json": {
       "model_id": "531770fdc1d146648fca5fa36c433baf",
       "version_major": 2,
       "version_minor": 0
      },
      "text/plain": [
       "VBox(children=(Label(value='Waiting for wandb.init()...\\r'), FloatProgress(value=0.016666666666666666, max=1.0…"
      ]
     },
     "metadata": {},
     "output_type": "display_data"
    },
    {
     "data": {
      "text/html": [
       "Tracking run with wandb version 0.13.5"
      ],
      "text/plain": [
       "<IPython.core.display.HTML object>"
      ]
     },
     "metadata": {},
     "output_type": "display_data"
    },
    {
     "data": {
      "text/html": [
       "Run data is saved locally in <code>C:\\Users\\mostp\\OneDrive - postech.ac.kr\\projects\\post\\tips\\wandb\\run-20221111_002032-1uttk9ka</code>"
      ],
      "text/plain": [
       "<IPython.core.display.HTML object>"
      ]
     },
     "metadata": {},
     "output_type": "display_data"
    },
    {
     "data": {
      "text/html": [
       "Syncing run <strong><a href=\"https://wandb.ai/dongjinlee/tips2/runs/1uttk9ka\" target=\"_blank\">9</a></strong> to <a href=\"https://wandb.ai/dongjinlee/tips2\" target=\"_blank\">Weights & Biases</a> (<a href=\"https://wandb.me/run\" target=\"_blank\">docs</a>)<br/>"
      ],
      "text/plain": [
       "<IPython.core.display.HTML object>"
      ]
     },
     "metadata": {},
     "output_type": "display_data"
    },
    {
     "data": {
      "text/html": [
       "Waiting for W&B process to finish... <strong style=\"color:green\">(success).</strong>"
      ],
      "text/plain": [
       "<IPython.core.display.HTML object>"
      ]
     },
     "metadata": {},
     "output_type": "display_data"
    },
    {
     "data": {
      "application/vnd.jupyter.widget-view+json": {
       "model_id": "36b4c7152bd0453592c89dfeb7b04ebc",
       "version_major": 2,
       "version_minor": 0
      },
      "text/plain": [
       "VBox(children=(Label(value='0.001 MB of 0.007 MB uploaded (0.000 MB deduped)\\r'), FloatProgress(value=0.146547…"
      ]
     },
     "metadata": {},
     "output_type": "display_data"
    },
    {
     "data": {
      "text/html": [
       "<style>\n",
       "    table.wandb td:nth-child(1) { padding: 0 10px; text-align: left ; width: auto;} td:nth-child(2) {text-align: left ; width: 100%}\n",
       "    .wandb-row { display: flex; flex-direction: row; flex-wrap: wrap; justify-content: flex-start; width: 100% }\n",
       "    .wandb-col { display: flex; flex-direction: column; flex-basis: 100%; flex: 1; padding: 10px; }\n",
       "    </style>\n",
       "<div class=\"wandb-row\"><div class=\"wandb-col\"><h3>Run history:</h3><br/><table class=\"wandb\"><tr><td>Sample Mean</td><td>▆▅▂▃▃▃▁▁▁▁▂▄▄▅▆▆▇▇▇▇█▇███</td></tr><tr><td>Step</td><td>▁▁▂▂▂▂▃▃▃▄▄▄▅▅▅▅▆▆▆▇▇▇▇██</td></tr></table><br/></div><div class=\"wandb-col\"><h3>Run summary:</h3><br/><table class=\"wandb\"><tr><td>Sample Mean</td><td>10.57417</td></tr><tr><td>Step</td><td>24</td></tr></table><br/></div></div>"
      ],
      "text/plain": [
       "<IPython.core.display.HTML object>"
      ]
     },
     "metadata": {},
     "output_type": "display_data"
    },
    {
     "data": {
      "text/html": [
       "Synced <strong style=\"color:#cdcd00\">9</strong>: <a href=\"https://wandb.ai/dongjinlee/tips2/runs/1uttk9ka\" target=\"_blank\">https://wandb.ai/dongjinlee/tips2/runs/1uttk9ka</a><br/>Synced 5 W&B file(s), 0 media file(s), 0 artifact file(s) and 0 other file(s)"
      ],
      "text/plain": [
       "<IPython.core.display.HTML object>"
      ]
     },
     "metadata": {},
     "output_type": "display_data"
    },
    {
     "data": {
      "text/html": [
       "Find logs at: <code>.\\wandb\\run-20221111_002032-1uttk9ka\\logs</code>"
      ],
      "text/plain": [
       "<IPython.core.display.HTML object>"
      ]
     },
     "metadata": {},
     "output_type": "display_data"
    }
   ],
   "source": [
    "import wandb\n",
    "import numpy as np\n",
    "\n",
    "\n",
    "# 실험 인자\n",
    "mu = 10\n",
    "std = 3\n",
    "n_trials = 25\n",
    "\n",
    "# 실험 알고리즘\n",
    "def seed_all(seed):\n",
    "    random.seed(seed)\n",
    "    np.random.seed(seed)\n",
    "\n",
    "for seed in range(10):\n",
    "    seed_all(seed)\n",
    "    wandb.init(project='tips2', group='Group1', name=str(seed), config={'seed': seed, 'mu': mu, 'std': std, 'n_trials': n_trials})\n",
    "\n",
    "    s = 0\n",
    "    count = 0\n",
    "    history = []\n",
    "    for i in range(n_trials):\n",
    "        x = np.random.normal(mu, std)\n",
    "\n",
    "        s = s + x\n",
    "        count = count + 1\n",
    "        history.append(s / count)\n",
    "\n",
    "        wandb.log({'Step': i, 'Sample Mean': s / count})\n",
    "\n",
    "    wandb.finish()"
   ]
  },
  {
   "cell_type": "code",
   "execution_count": null,
   "id": "3dc83ad6",
   "metadata": {},
   "outputs": [],
   "source": []
  }
 ],
 "metadata": {
  "kernelspec": {
   "display_name": "Python 3 (ipykernel)",
   "language": "python",
   "name": "python3"
  },
  "language_info": {
   "codemirror_mode": {
    "name": "ipython",
    "version": 3
   },
   "file_extension": ".py",
   "mimetype": "text/x-python",
   "name": "python",
   "nbconvert_exporter": "python",
   "pygments_lexer": "ipython3",
   "version": "3.8.11"
  }
 },
 "nbformat": 4,
 "nbformat_minor": 5
}
