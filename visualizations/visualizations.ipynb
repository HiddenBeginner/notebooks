{
 "cells": [
  {
   "cell_type": "markdown",
   "metadata": {},
   "source": [
    "### Violin plot\n",
    "\n",
    "~~~python\n",
    "import matplotlib.pyplot as plt\n",
    "\n",
    "fig, ax = plt.subplots(1, 1, figsize=(8, 5), dpi=200)\n",
    "\n",
    "ax.violinplot(rewards)\n",
    "plt.suptitle('Violin plot', x=0.195, y=0.95, fontsize=20, fontweight='bold', fontfamily='serif')\n",
    "ax.set_title('The reward distribution for each socket', x=0.24, y=1.0, fontsize=12, fontfamily='serif', color='gray')\n",
    "ax.grid(axis='y', linestyle='--', alpha=0.9)\n",
    "plt.xlabel('Socket', fontsize=12)\n",
    "plt.ylabel('Reward distribution (seconds of charge)', fontsize=12)\n",
    "plt.tight_layout()\n",
    "plt.savefig('violinplot.png')\n",
    "plt.show()\n",
    "~~~\n",
    "\n",
    "![violinplot](./img/violinplot.png)"
   ]
  },
  {
   "cell_type": "markdown",
   "metadata": {},
   "source": [
    "### Heatmap\n",
    "- Change the label's color of the colorbar in a heatmap\n",
    "- Make the shape of a heatmap square\n",
    "- Shrink the length of the colorbar\n",
    "\n",
    "~~~python\n",
    "import numpy as np\n",
    "import matplotlib.pyplot as plt\n",
    "import seaborn as sns\n",
    "\n",
    "n = 11\n",
    "x = np.linspace(-1, 1, n)\n",
    "fx = np.zeros(shape=(n, n))\n",
    "for i in range(n):\n",
    "    for j in range(n):\n",
    "        fx[i, j] = x[i] + x[j]\n",
    "\n",
    "fig, ax = plt.subplots(1, 1, figsize=(6, 6), dpi=100, facecolor='black')\n",
    "\n",
    "hm = sns.heatmap(fx, cmap='Blues', square=True, cbar_kws={'shrink': 0.75}, ax=ax)\n",
    "\n",
    "# title\n",
    "ax.set_title(\"How to change the label's color\\n of the colorbar in the heatmap?\", color='white', fontsize=14, fontweight='bold', fontfamily='sans-serif')\n",
    "\n",
    "# ticks\n",
    "ticks = [f'{i:.1f}' for i in x]\n",
    "ax.set_xticklabels(ticks, color='white', fontweight='bold')\n",
    "ax.set_yticklabels(ticks, color='white', rotation='horizontal', fontweight='bold')\n",
    "\n",
    "# colorbar\n",
    "cb = hm.collections[0].colorbar\n",
    "plt.setp(plt.getp(cb.ax.axes, 'yticklabels'), color='white', fontweight='bold')\n",
    "\n",
    "plt.tight_layout()\n",
    "plt.show(fig)\n",
    "~~~\n",
    "\n",
    "![heatmap](./img/heatmap.png)"
   ]
  }
 ],
 "metadata": {
  "kernelspec": {
   "display_name": "Python 3",
   "language": "python",
   "name": "python3"
  },
  "language_info": {
   "codemirror_mode": {
    "name": "ipython",
    "version": 3
   },
   "file_extension": ".py",
   "mimetype": "text/x-python",
   "name": "python",
   "nbconvert_exporter": "python",
   "pygments_lexer": "ipython3",
   "version": "3.6.5"
  },
  "toc": {
   "base_numbering": 1,
   "nav_menu": {},
   "number_sections": false,
   "sideBar": true,
   "skip_h1_title": false,
   "title_cell": "Table of Contents",
   "title_sidebar": "Contents",
   "toc_cell": false,
   "toc_position": {
    "height": "calc(100% - 180px)",
    "left": "10px",
    "top": "150px",
    "width": "226.2px"
   },
   "toc_section_display": true,
   "toc_window_display": true
  },
  "varInspector": {
   "cols": {
    "lenName": 16,
    "lenType": 16,
    "lenVar": 40
   },
   "kernels_config": {
    "python": {
     "delete_cmd_postfix": "",
     "delete_cmd_prefix": "del ",
     "library": "var_list.py",
     "varRefreshCmd": "print(var_dic_list())"
    },
    "r": {
     "delete_cmd_postfix": ") ",
     "delete_cmd_prefix": "rm(",
     "library": "var_list.r",
     "varRefreshCmd": "cat(var_dic_list()) "
    }
   },
   "types_to_exclude": [
    "module",
    "function",
    "builtin_function_or_method",
    "instance",
    "_Feature"
   ],
   "window_display": false
  }
 },
 "nbformat": 4,
 "nbformat_minor": 4
}
